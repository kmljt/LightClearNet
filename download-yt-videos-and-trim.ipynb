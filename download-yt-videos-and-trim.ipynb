{
 "cells": [
  {
   "cell_type": "code",
   "execution_count": 30,
   "metadata": {},
   "outputs": [],
   "source": [
    "from pytube import YouTube\n",
    "from datetime import time"
   ]
  },
  {
   "cell_type": "code",
   "execution_count": null,
   "metadata": {},
   "outputs": [],
   "source": [
    "download_path = 'Videos'"
   ]
  },
  {
   "cell_type": "code",
   "execution_count": 34,
   "metadata": {},
   "outputs": [],
   "source": [
    "def download_yt_video(url, download_path=download_path):\n",
    "    yt = YouTube(url)\n",
    "    video = yt.streams.get_highest_resolution()\n",
    "    video.download(download_path)\n",
    "    print(f'Downloaded: {url}')"
   ]
  },
  {
   "cell_type": "code",
   "execution_count": 50,
   "metadata": {},
   "outputs": [],
   "source": [
    "def trim_video(input, start, end):\n",
    "    start_str = time(*start).strftime('%H:%M:%S')\n",
    "    end_str = time(*end).strftime('%H:%M:%S')\n",
    "    output = f'{input.replace(\" \", \"_\")}_{start_str}___{end_str}'.replace(':', '_')\n",
    "\n",
    "    !ffmpeg -ss {start_str} -to {end_str} -i \"{input}.mp4\" -c copy \"{output}.mp4\"\n",
    "    return output"
   ]
  },
  {
   "cell_type": "code",
   "execution_count": 6,
   "metadata": {},
   "outputs": [
    {
     "name": "stdout",
     "output_type": "stream",
     "text": [
      "<Stream: itag=\"22\" mime_type=\"video/mp4\" res=\"720p\" fps=\"25fps\" vcodec=\"avc1.64001F\" acodec=\"mp4a.40.2\" progressive=\"True\" type=\"video\">\n",
      "Downloaded: {url}\n"
     ]
    }
   ],
   "source": [
    "download_yt_video('https://www.youtube.com/watch?v=LVanPoKh7Ew')"
   ]
  },
  {
   "cell_type": "code",
   "execution_count": 40,
   "metadata": {},
   "outputs": [],
   "source": [
    "filename = 'Virtual Drive Through The Dark and Foggy Forest  Rain and Thunder'"
   ]
  },
  {
   "cell_type": "code",
   "execution_count": 49,
   "metadata": {},
   "outputs": [
    {
     "name": "stderr",
     "output_type": "stream",
     "text": [
      "ffmpeg version 2023-04-12-git-1179bb703e-full_build-www.gyan.dev Copyright (c) 2000-2023 the FFmpeg developers\n",
      "  built with gcc 12.2.0 (Rev10, Built by MSYS2 project)\n",
      "  configuration: --enable-gpl --enable-version3 --enable-static --disable-w32threads --disable-autodetect --enable-fontconfig --enable-iconv --enable-gnutls --enable-libxml2 --enable-gmp --enable-bzlib --enable-lzma --enable-libsnappy --enable-zlib --enable-librist --enable-libsrt --enable-libssh --enable-libzmq --enable-avisynth --enable-libbluray --enable-libcaca --enable-sdl2 --enable-libaribb24 --enable-libdav1d --enable-libdavs2 --enable-libuavs3d --enable-libzvbi --enable-librav1e --enable-libsvtav1 --enable-libwebp --enable-libx264 --enable-libx265 --enable-libxavs2 --enable-libxvid --enable-libaom --enable-libjxl --enable-libopenjpeg --enable-libvpx --enable-mediafoundation --enable-libass --enable-frei0r --enable-libfreetype --enable-libfribidi --enable-liblensfun --enable-libvidstab --enable-libvmaf --enable-libzimg --enable-amf --enable-cuda-llvm --enable-cuvid --enable-ffnvcodec --enable-nvdec --enable-nvenc --enable-d3d11va --enable-dxva2 --enable-libvpl --enable-libshaderc --enable-vulkan --enable-libplacebo --enable-opencl --enable-libcdio --enable-libgme --enable-libmodplug --enable-libopenmpt --enable-libopencore-amrwb --enable-libmp3lame --enable-libshine --enable-libtheora --enable-libtwolame --enable-libvo-amrwbenc --enable-libcodec2 --enable-libilbc --enable-libgsm --enable-libopencore-amrnb --enable-libopus --enable-libspeex --enable-libvorbis --enable-ladspa --enable-libbs2b --enable-libflite --enable-libmysofa --enable-librubberband --enable-libsoxr --enable-chromaprint\n",
      "  libavutil      58.  6.100 / 58.  6.100\n",
      "  libavcodec     60.  9.100 / 60.  9.100\n",
      "  libavformat    60.  4.101 / 60.  4.101\n",
      "  libavdevice    60.  2.100 / 60.  2.100\n",
      "  libavfilter     9.  5.100 /  9.  5.100\n",
      "  libswscale      7.  2.100 /  7.  2.100\n",
      "  libswresample   4. 11.100 /  4. 11.100\n",
      "  libpostproc    57.  2.100 / 57.  2.100\n",
      "Input #0, mov,mp4,m4a,3gp,3g2,mj2, from 'Videos/Virtual Drive Through The Dark and Foggy Forest  Rain and Thunder.mp4':\n",
      "  Metadata:\n",
      "    major_brand     : mp42\n",
      "    minor_version   : 0\n",
      "    compatible_brands: isommp42\n",
      "    creation_time   : 2024-02-23T13:50:25.000000Z\n",
      "  Duration: 01:40:54.97, start: 0.000000, bitrate: 1690 kb/s\n",
      "  Stream #0:0[0x1](und): Video: h264 (Main) (avc1 / 0x31637661), yuv420p(tv, bt709, progressive), 1280x720 [SAR 1:1 DAR 16:9], 1558 kb/s, 25 fps, 25 tbr, 12800 tbn (default)\n",
      "    Metadata:\n",
      "      creation_time   : 2024-02-23T13:50:25.000000Z\n",
      "      handler_name    : ISO Media file produced by Google Inc. Created on: 02/23/2024.\n",
      "      vendor_id       : [0][0][0][0]\n",
      "  Stream #0:1[0x2](und): Audio: aac (LC) (mp4a / 0x6134706D), 44100 Hz, stereo, fltp, 128 kb/s (default)\n",
      "    Metadata:\n",
      "      creation_time   : 2024-02-23T13:50:25.000000Z\n",
      "      handler_name    : ISO Media file produced by Google Inc. Created on: 02/23/2024.\n",
      "      vendor_id       : [0][0][0][0]\n",
      "Output #0, mp4, to 'Videos/Virtual_Drive_Through_The_Dark_and_Foggy_Forest__Rain_and_Thunder_01_36_00___01_38_00.mp4':\n",
      "  Metadata:\n",
      "    major_brand     : mp42\n",
      "    minor_version   : 0\n",
      "    compatible_brands: isommp42\n",
      "    encoder         : Lavf60.4.101\n",
      "  Stream #0:0(und): Video: h264 (Main) (avc1 / 0x31637661), yuv420p(tv, bt709, progressive), 1280x720 [SAR 1:1 DAR 16:9], q=2-31, 1558 kb/s, 25 fps, 25 tbr, 12800 tbn (default)\n",
      "    Metadata:\n",
      "      creation_time   : 2024-02-23T13:50:25.000000Z\n",
      "      handler_name    : ISO Media file produced by Google Inc. Created on: 02/23/2024.\n",
      "      vendor_id       : [0][0][0][0]\n",
      "  Stream #0:1(und): Audio: aac (LC) (mp4a / 0x6134706D), 44100 Hz, stereo, fltp, 128 kb/s (default)\n",
      "    Metadata:\n",
      "      creation_time   : 2024-02-23T13:50:25.000000Z\n",
      "      handler_name    : ISO Media file produced by Google Inc. Created on: 02/23/2024.\n",
      "      vendor_id       : [0][0][0][0]\n",
      "Stream mapping:\n",
      "  Stream #0:0 -> #0:0 (copy)\n",
      "  Stream #0:1 -> #0:1 (copy)\n",
      "Press [q] to stop, [?] for help\n",
      "frame=    0 fps=0.0 q=-1.0 size=       0kB time=-00:00:00.04 bitrate=  -0.0kbits/s speed=N/A    \n",
      "frame= 3001 fps=0.0 q=-1.0 Lsize=   59002kB time=00:01:59.98 bitrate=4028.2kbits/s speed= 814x    \n",
      "video:57030kB audio:1876kB subtitle:0kB other streams:0kB global headers:0kB muxing overhead: 0.162464%\n"
     ]
    },
    {
     "data": {
      "text/plain": [
       "'Videos/Virtual_Drive_Through_The_Dark_and_Foggy_Forest__Rain_and_Thunder_01_36_00___01_38_00'"
      ]
     },
     "execution_count": 49,
     "metadata": {},
     "output_type": "execute_result"
    }
   ],
   "source": [
    "trim_video(f'{download_path}/{filename}', (1, 36, 0), (1, 38, 0))"
   ]
  }
 ],
 "metadata": {
  "kernelspec": {
   "display_name": "base",
   "language": "python",
   "name": "python3"
  },
  "language_info": {
   "codemirror_mode": {
    "name": "ipython",
    "version": 3
   },
   "file_extension": ".py",
   "mimetype": "text/x-python",
   "name": "python",
   "nbconvert_exporter": "python",
   "pygments_lexer": "ipython3",
   "version": "3.11.7"
  }
 },
 "nbformat": 4,
 "nbformat_minor": 2
}
